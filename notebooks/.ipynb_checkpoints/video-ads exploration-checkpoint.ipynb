{
 "cells": [
  {
   "cell_type": "code",
   "execution_count": 12,
   "metadata": {},
   "outputs": [],
   "source": [
    "import pandas as pd\n",
    "from utils import str2tupleList\n",
    "from collections import Counter"
   ]
  },
  {
   "cell_type": "code",
   "execution_count": 2,
   "metadata": {},
   "outputs": [],
   "source": [
    "ads = pd.read_csv('../processed_data/ads.csv')"
   ]
  },
  {
   "cell_type": "code",
   "execution_count": 3,
   "metadata": {},
   "outputs": [],
   "source": [
    "ads['categories'] = ads['categories'].apply(str2tupleList)"
   ]
  },
  {
   "cell_type": "markdown",
   "metadata": {},
   "source": [
    "### Most commom categories in the video-ads"
   ]
  },
  {
   "cell_type": "code",
   "execution_count": null,
   "metadata": {},
   "outputs": [],
   "source": [
    "all_labels = []\n",
    "for ad in ads['categories']:\n",
    "    for label, confidence in ad:\n",
    "        all_labels.append(label)"
   ]
  },
  {
   "cell_type": "code",
   "execution_count": 13,
   "metadata": {},
   "outputs": [],
   "source": [
    "occurence_count = Counter(all_labels)"
   ]
  },
  {
   "cell_type": "code",
   "execution_count": 18,
   "metadata": {},
   "outputs": [
    {
     "data": {
      "text/plain": [
       "[('Video game', 1676),\n",
       " ('Vehicle', 1620),\n",
       " ('Car', 1403),\n",
       " ('Animation', 1386),\n",
       " ('Food', 1248),\n",
       " ('Game', 1199),\n",
       " ('Television advertisement', 1178),\n",
       " ('Animal', 727),\n",
       " ('Dance', 702),\n",
       " ('Photography', 608),\n",
       " ('Toy', 582),\n",
       " ('Trailer (promotion)', 562),\n",
       " ('Sonic the Hedgehog', 510),\n",
       " ('Video game console', 427),\n",
       " ('Mobile phone', 389),\n",
       " ('Advertising', 351),\n",
       " ('Motorsport', 303),\n",
       " ('Cartoon', 302),\n",
       " ('Comedy (drama)', 289),\n",
       " ('Hair', 275),\n",
       " (\"McDonald's\", 260),\n",
       " ('Radio-controlled model', 260),\n",
       " ('Fashion', 258),\n",
       " ('Guitar', 239),\n",
       " ('Wii', 231),\n",
       " ('Cosmetics', 227),\n",
       " ('Pet', 218),\n",
       " ('The Walt Disney Company', 205),\n",
       " ('Music video', 203),\n",
       " ('Microsoft Windows', 197)]"
      ]
     },
     "execution_count": 18,
     "metadata": {},
     "output_type": "execute_result"
    }
   ],
   "source": [
    "occurence_count.most_common(30)"
   ]
  },
  {
   "cell_type": "code",
   "execution_count": null,
   "metadata": {},
   "outputs": [],
   "source": []
  }
 ],
 "metadata": {
  "kernelspec": {
   "display_name": "Python 3",
   "language": "python",
   "name": "python3"
  },
  "language_info": {
   "codemirror_mode": {
    "name": "ipython",
    "version": 3
   },
   "file_extension": ".py",
   "mimetype": "text/x-python",
   "name": "python",
   "nbconvert_exporter": "python",
   "pygments_lexer": "ipython3",
   "version": "3.7.2"
  }
 },
 "nbformat": 4,
 "nbformat_minor": 2
}
