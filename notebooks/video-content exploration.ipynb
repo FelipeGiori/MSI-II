{
 "cells": [
  {
   "cell_type": "code",
   "execution_count": 1,
   "metadata": {},
   "outputs": [],
   "source": [
    "import pandas as pd\n",
    "from utils import str2tupleList\n",
    "from collections import Counter"
   ]
  },
  {
   "cell_type": "code",
   "execution_count": 2,
   "metadata": {},
   "outputs": [],
   "source": [
    "df = pd.read_csv('../processed_data/content.csv')"
   ]
  },
  {
   "cell_type": "code",
   "execution_count": 3,
   "metadata": {},
   "outputs": [
    {
     "data": {
      "text/html": [
       "<div>\n",
       "<style scoped>\n",
       "    .dataframe tbody tr th:only-of-type {\n",
       "        vertical-align: middle;\n",
       "    }\n",
       "\n",
       "    .dataframe tbody tr th {\n",
       "        vertical-align: top;\n",
       "    }\n",
       "\n",
       "    .dataframe thead th {\n",
       "        text-align: right;\n",
       "    }\n",
       "</style>\n",
       "<table border=\"1\" class=\"dataframe\">\n",
       "  <thead>\n",
       "    <tr style=\"text-align: right;\">\n",
       "      <th></th>\n",
       "      <th>videoId</th>\n",
       "      <th>categories</th>\n",
       "    </tr>\n",
       "  </thead>\n",
       "  <tbody>\n",
       "    <tr>\n",
       "      <th>0</th>\n",
       "      <td>ayAHqFrzB0g</td>\n",
       "      <td>[('Toy', '0.491129'), ('Iron Man', '0.101591')...</td>\n",
       "    </tr>\n",
       "    <tr>\n",
       "      <th>1</th>\n",
       "      <td>bA_VvQweSvo</td>\n",
       "      <td>[('Cartoon', '0.991406'), ('Animation', '0.887...</td>\n",
       "    </tr>\n",
       "    <tr>\n",
       "      <th>2</th>\n",
       "      <td>bXD2Yisl73o</td>\n",
       "      <td>[('Toy', '0.575284'), ('Bead', '0.345095'), ('...</td>\n",
       "    </tr>\n",
       "    <tr>\n",
       "      <th>3</th>\n",
       "      <td>bY053FYzX9k</td>\n",
       "      <td>[('Cartoon', '0.780849'), ('Animation', '0.453...</td>\n",
       "    </tr>\n",
       "    <tr>\n",
       "      <th>4</th>\n",
       "      <td>bgNgD0L28Ek</td>\n",
       "      <td>[('Cartoon', '0.747227'), ('Game', '0.50172'),...</td>\n",
       "    </tr>\n",
       "  </tbody>\n",
       "</table>\n",
       "</div>"
      ],
      "text/plain": [
       "       videoId                                         categories\n",
       "0  ayAHqFrzB0g  [('Toy', '0.491129'), ('Iron Man', '0.101591')...\n",
       "1  bA_VvQweSvo  [('Cartoon', '0.991406'), ('Animation', '0.887...\n",
       "2  bXD2Yisl73o  [('Toy', '0.575284'), ('Bead', '0.345095'), ('...\n",
       "3  bY053FYzX9k  [('Cartoon', '0.780849'), ('Animation', '0.453...\n",
       "4  bgNgD0L28Ek  [('Cartoon', '0.747227'), ('Game', '0.50172'),..."
      ]
     },
     "execution_count": 3,
     "metadata": {},
     "output_type": "execute_result"
    }
   ],
   "source": [
    "df.head()"
   ]
  },
  {
   "cell_type": "code",
   "execution_count": 4,
   "metadata": {},
   "outputs": [],
   "source": [
    "df['categories'] = df['categories'].apply(str2tupleList)"
   ]
  },
  {
   "cell_type": "code",
   "execution_count": 5,
   "metadata": {},
   "outputs": [],
   "source": [
    "all_labels = []\n",
    "for content in df['categories']:\n",
    "    for label, confidence in content:\n",
    "        all_labels.append(label)"
   ]
  },
  {
   "cell_type": "code",
   "execution_count": 6,
   "metadata": {},
   "outputs": [],
   "source": [
    "occurence_count = Counter(all_labels)"
   ]
  },
  {
   "cell_type": "code",
   "execution_count": 7,
   "metadata": {},
   "outputs": [
    {
     "data": {
      "text/plain": [
       "[('Animation', 487),\n",
       " ('Video game', 476),\n",
       " ('Game', 449),\n",
       " ('Toy', 370),\n",
       " ('Cartoon', 363),\n",
       " ('Sonic the Hedgehog', 283),\n",
       " ('The Walt Disney Company', 271),\n",
       " ('Vehicle', 207),\n",
       " ('Dance', 205),\n",
       " ('Animal', 188),\n",
       " ('Food', 179),\n",
       " ('Doll', 153),\n",
       " (\"McDonald's\", 140),\n",
       " ('Kinder Surprise', 137),\n",
       " ('Toddler', 131),\n",
       " ('Barbie', 129),\n",
       " ('Car', 124),\n",
       " ('My Little Pony', 117),\n",
       " ('Cartoon Network', 109),\n",
       " ('Pet', 101),\n",
       " ('Farm', 92),\n",
       " ('Littlest Pet Shop', 90),\n",
       " ('Spider-Man', 87),\n",
       " ('Music video', 84),\n",
       " ('Radio-controlled model', 79),\n",
       " ('Egg as food', 78),\n",
       " ('Pony', 75),\n",
       " ('Luigi', 72),\n",
       " ('Play-Doh', 66),\n",
       " ('Sheriff Woody', 65)]"
      ]
     },
     "execution_count": 7,
     "metadata": {},
     "output_type": "execute_result"
    }
   ],
   "source": [
    "occurence_count.most_common(30)"
   ]
  },
  {
   "cell_type": "code",
   "execution_count": null,
   "metadata": {},
   "outputs": [],
   "source": []
  }
 ],
 "metadata": {
  "kernelspec": {
   "display_name": "Python 3",
   "language": "python",
   "name": "python3"
  },
  "language_info": {
   "codemirror_mode": {
    "name": "ipython",
    "version": 3
   },
   "file_extension": ".py",
   "mimetype": "text/x-python",
   "name": "python",
   "nbconvert_exporter": "python",
   "pygments_lexer": "ipython3",
   "version": "3.7.2"
  }
 },
 "nbformat": 4,
 "nbformat_minor": 2
}
