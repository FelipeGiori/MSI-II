{
 "cells": [
  {
   "cell_type": "markdown",
   "metadata": {},
   "source": [
    "# Kappa Fleiss between three coders"
   ]
  },
  {
   "cell_type": "markdown",
   "metadata": {},
   "source": [
    "Calculates the Kappa fleiss between three (Felipe, Guilherme, YouTube-8m) coders using two approaches: most frequent category and weighted."
   ]
  },
  {
   "cell_type": "code",
   "execution_count": 1,
   "metadata": {},
   "outputs": [],
   "source": [
    "import pandas as pd\n",
    "from utils import str2List, sumOfSquares"
   ]
  },
  {
   "cell_type": "code",
   "execution_count": 2,
   "metadata": {},
   "outputs": [],
   "source": [
    "ads = pd.read_csv('../processed_data/ads_str_column.csv')\n",
    "cat = pd.read_csv('../processed_data/mapped_categories.csv')"
   ]
  },
  {
   "cell_type": "code",
   "execution_count": 3,
   "metadata": {},
   "outputs": [],
   "source": [
    "ads['labels'] = ads['categories'].apply(str2List, 1)"
   ]
  },
  {
   "cell_type": "code",
   "execution_count": 4,
   "metadata": {},
   "outputs": [],
   "source": [
    "cat_dict = dict(zip(cat['label'], cat['categories']))"
   ]
  },
  {
   "cell_type": "code",
   "execution_count": 5,
   "metadata": {},
   "outputs": [],
   "source": [
    "def map_cat(lst):\n",
    "    tmp = []\n",
    "    for k in lst:\n",
    "        try:\n",
    "            tmp.append(cat_dict[k])\n",
    "        except:\n",
    "            pass\n",
    "    return tmp"
   ]
  },
  {
   "cell_type": "code",
   "execution_count": 6,
   "metadata": {},
   "outputs": [],
   "source": [
    "ads['categories'] = ads['labels'].apply(map_cat, 1)"
   ]
  },
  {
   "cell_type": "markdown",
   "metadata": {},
   "source": [
    "## Most Frequent approach"
   ]
  },
  {
   "cell_type": "code",
   "execution_count": 7,
   "metadata": {},
   "outputs": [],
   "source": [
    "def most_frequent(lst): \n",
    "    return max(set(lst), key = lst.count)"
   ]
  },
  {
   "cell_type": "code",
   "execution_count": 8,
   "metadata": {},
   "outputs": [],
   "source": [
    "ads['category_youtube8m'] = ads['categories'].apply(most_frequent, 1)"
   ]
  },
  {
   "cell_type": "code",
   "execution_count": 9,
   "metadata": {},
   "outputs": [
    {
     "data": {
      "text/html": [
       "<div>\n",
       "<style scoped>\n",
       "    .dataframe tbody tr th:only-of-type {\n",
       "        vertical-align: middle;\n",
       "    }\n",
       "\n",
       "    .dataframe tbody tr th {\n",
       "        vertical-align: top;\n",
       "    }\n",
       "\n",
       "    .dataframe thead th {\n",
       "        text-align: right;\n",
       "    }\n",
       "</style>\n",
       "<table border=\"1\" class=\"dataframe\">\n",
       "  <thead>\n",
       "    <tr style=\"text-align: right;\">\n",
       "      <th></th>\n",
       "      <th>videoId</th>\n",
       "      <th>categories</th>\n",
       "      <th>labels</th>\n",
       "      <th>category_youtube8m</th>\n",
       "    </tr>\n",
       "  </thead>\n",
       "  <tbody>\n",
       "    <tr>\n",
       "      <th>0</th>\n",
       "      <td>-0iPHNTYfOI</td>\n",
       "      <td>[Food &amp; Drink, Autos &amp; Vehicles, Pets &amp; Animal...</td>\n",
       "      <td>[Food, Vehicle, Animal, Car, KFC, Chocolate, T...</td>\n",
       "      <td>Food &amp; Drink</td>\n",
       "    </tr>\n",
       "    <tr>\n",
       "      <th>1</th>\n",
       "      <td>-4P8-sJqukY</td>\n",
       "      <td>[Hobbies &amp; Leisure, Autos &amp; Vehicles, Hobbies ...</td>\n",
       "      <td>[Hot, air, balloon, Balloon, (aeronautics), Vi...</td>\n",
       "      <td>Arts &amp; Entertainment</td>\n",
       "    </tr>\n",
       "    <tr>\n",
       "      <th>2</th>\n",
       "      <td>-5bLu-NETl0</td>\n",
       "      <td>[Internet &amp; Telecom, Autos &amp; Vehicles, Compute...</td>\n",
       "      <td>[Website, Video, game, Microsoft, Windows, Veh...</td>\n",
       "      <td>Computers &amp; Electronics</td>\n",
       "    </tr>\n",
       "    <tr>\n",
       "      <th>3</th>\n",
       "      <td>-7TzvnMnflE</td>\n",
       "      <td>[Arts &amp; Entertainment, Arts &amp; Entertainment, A...</td>\n",
       "      <td>[Cartoon, Animation, Vehicle, Video, game, Car...</td>\n",
       "      <td>Arts &amp; Entertainment</td>\n",
       "    </tr>\n",
       "    <tr>\n",
       "      <th>4</th>\n",
       "      <td>-8M5Ekbt2hA</td>\n",
       "      <td>[Games, Autos &amp; Vehicles, Arts &amp; Entertainment...</td>\n",
       "      <td>[Video, game, Game, Rayman, Vehicle, Animation...</td>\n",
       "      <td>Arts &amp; Entertainment</td>\n",
       "    </tr>\n",
       "  </tbody>\n",
       "</table>\n",
       "</div>"
      ],
      "text/plain": [
       "       videoId                                         categories  \\\n",
       "0  -0iPHNTYfOI  [Food & Drink, Autos & Vehicles, Pets & Animal...   \n",
       "1  -4P8-sJqukY  [Hobbies & Leisure, Autos & Vehicles, Hobbies ...   \n",
       "2  -5bLu-NETl0  [Internet & Telecom, Autos & Vehicles, Compute...   \n",
       "3  -7TzvnMnflE  [Arts & Entertainment, Arts & Entertainment, A...   \n",
       "4  -8M5Ekbt2hA  [Games, Autos & Vehicles, Arts & Entertainment...   \n",
       "\n",
       "                                              labels       category_youtube8m  \n",
       "0  [Food, Vehicle, Animal, Car, KFC, Chocolate, T...             Food & Drink  \n",
       "1  [Hot, air, balloon, Balloon, (aeronautics), Vi...     Arts & Entertainment  \n",
       "2  [Website, Video, game, Microsoft, Windows, Veh...  Computers & Electronics  \n",
       "3  [Cartoon, Animation, Vehicle, Video, game, Car...     Arts & Entertainment  \n",
       "4  [Video, game, Game, Rayman, Vehicle, Animation...     Arts & Entertainment  "
      ]
     },
     "execution_count": 9,
     "metadata": {},
     "output_type": "execute_result"
    }
   ],
   "source": [
    "ads.head()"
   ]
  },
  {
   "cell_type": "code",
   "execution_count": 10,
   "metadata": {},
   "outputs": [],
   "source": [
    "felipe_coding = pd.read_csv(\"../data/felipe_coding.csv\")\n",
    "guilherme_coding = pd.read_csv(\"../data/guilherme_coding.csv\")\n",
    "\n",
    "felipe_coding = felipe_coding[['ad_id', 'what is the category of the product?']]\n",
    "felipe_coding.columns = ['ad_id', 'category_felipe']\n",
    "felipe_coding = felipe_coding.dropna()\n",
    "\n",
    "guilherme_coding = guilherme_coding[['ad_id', 'what is the category of the product?']]\n",
    "guilherme_coding.columns = ['ad_id', 'category_guilherme']\n",
    "guilherme_coding = guilherme_coding.dropna()"
   ]
  },
  {
   "cell_type": "code",
   "execution_count": 11,
   "metadata": {},
   "outputs": [],
   "source": [
    "coding = ads.copy()\n",
    "coding = coding[['videoId', 'category_youtube8m']]"
   ]
  },
  {
   "cell_type": "code",
   "execution_count": 12,
   "metadata": {},
   "outputs": [],
   "source": [
    "coding = coding.join(felipe_coding.set_index('ad_id'), on='videoId')\n",
    "coding = coding.join(guilherme_coding.set_index('ad_id'), on='videoId')"
   ]
  },
  {
   "cell_type": "code",
   "execution_count": 13,
   "metadata": {},
   "outputs": [],
   "source": [
    "coding = coding.dropna()\n",
    "coding = coding.drop_duplicates()"
   ]
  },
  {
   "cell_type": "code",
   "execution_count": 14,
   "metadata": {},
   "outputs": [
    {
     "data": {
      "text/html": [
       "<div>\n",
       "<style scoped>\n",
       "    .dataframe tbody tr th:only-of-type {\n",
       "        vertical-align: middle;\n",
       "    }\n",
       "\n",
       "    .dataframe tbody tr th {\n",
       "        vertical-align: top;\n",
       "    }\n",
       "\n",
       "    .dataframe thead th {\n",
       "        text-align: right;\n",
       "    }\n",
       "</style>\n",
       "<table border=\"1\" class=\"dataframe\">\n",
       "  <thead>\n",
       "    <tr style=\"text-align: right;\">\n",
       "      <th></th>\n",
       "      <th>videoId</th>\n",
       "      <th>category_youtube8m</th>\n",
       "      <th>category_felipe</th>\n",
       "      <th>category_guilherme</th>\n",
       "    </tr>\n",
       "  </thead>\n",
       "  <tbody>\n",
       "    <tr>\n",
       "      <th>98</th>\n",
       "      <td>1YBY1Hyo7ls</td>\n",
       "      <td>Computers &amp; Electronics</td>\n",
       "      <td>Arts &amp; Entertainment</td>\n",
       "      <td>Arts &amp; Entertainment</td>\n",
       "    </tr>\n",
       "    <tr>\n",
       "      <th>108</th>\n",
       "      <td>1kMEXhOMznQ</td>\n",
       "      <td>Pets &amp; Animals</td>\n",
       "      <td>Business &amp; Industrial</td>\n",
       "      <td>Business &amp; Industrial</td>\n",
       "    </tr>\n",
       "    <tr>\n",
       "      <th>116</th>\n",
       "      <td>1u2nS8jcc5g</td>\n",
       "      <td>Computers &amp; Electronics</td>\n",
       "      <td>Home &amp; Garden</td>\n",
       "      <td>Home &amp; Garden</td>\n",
       "    </tr>\n",
       "    <tr>\n",
       "      <th>144</th>\n",
       "      <td>2iTNc8rsFo8</td>\n",
       "      <td>Shopping</td>\n",
       "      <td>Clothing</td>\n",
       "      <td>Clothing</td>\n",
       "    </tr>\n",
       "    <tr>\n",
       "      <th>156</th>\n",
       "      <td>34AJ7MJNqFg</td>\n",
       "      <td>Arts &amp; Entertainment</td>\n",
       "      <td>Arts &amp; Entertainment</td>\n",
       "      <td>Arts &amp; Entertainment</td>\n",
       "    </tr>\n",
       "  </tbody>\n",
       "</table>\n",
       "</div>"
      ],
      "text/plain": [
       "         videoId       category_youtube8m        category_felipe  \\\n",
       "98   1YBY1Hyo7ls  Computers & Electronics   Arts & Entertainment   \n",
       "108  1kMEXhOMznQ           Pets & Animals  Business & Industrial   \n",
       "116  1u2nS8jcc5g  Computers & Electronics          Home & Garden   \n",
       "144  2iTNc8rsFo8                 Shopping               Clothing   \n",
       "156  34AJ7MJNqFg     Arts & Entertainment   Arts & Entertainment   \n",
       "\n",
       "        category_guilherme  \n",
       "98    Arts & Entertainment  \n",
       "108  Business & Industrial  \n",
       "116          Home & Garden  \n",
       "144               Clothing  \n",
       "156   Arts & Entertainment  "
      ]
     },
     "execution_count": 14,
     "metadata": {},
     "output_type": "execute_result"
    }
   ],
   "source": [
    "coding.head()"
   ]
  },
  {
   "cell_type": "code",
   "execution_count": 15,
   "metadata": {},
   "outputs": [],
   "source": [
    "def fleiss_kappa(df):  \n",
    "    k_list = list(set([*df.iloc[:,1], *df.iloc[:,2], *df.iloc[:,3]]))\n",
    "    \n",
    "    kappa_table = pd.DataFrame(0, index=df.videoId, columns=k_list)\n",
    "    \n",
    "    N = len(df)\n",
    "    n = 3\n",
    "    k = len(k_list)\n",
    "    \n",
    "    for _,row in df.iterrows():\n",
    "        kappa_table.at[row['videoId'], row['category_youtube8m']] += 1\n",
    "        kappa_table.at[row['videoId'], row['category_felipe']] += 1\n",
    "        kappa_table.at[row['videoId'], row['category_guilherme']] += 1\n",
    "        \n",
    "    kappa_table['P'] = 1/(n*(n-1)) * (kappa_table.apply(sumOfSquares, 1) - n)\n",
    "    p = kappa_table.iloc[:,:-1].sum()/kappa_table.iloc[:,:-1].sum().sum()\n",
    "    \n",
    "    P_hat = (1/N) * (kappa_table['P'].sum())\n",
    "    P_hat_e = sumOfSquares(p)\n",
    "    kappa = (P_hat - P_hat_e)/(1 - P_hat_e)\n",
    "    return kappa"
   ]
  },
  {
   "cell_type": "code",
   "execution_count": 16,
   "metadata": {},
   "outputs": [
    {
     "data": {
      "text/plain": [
       "0.35272317112471807"
      ]
     },
     "execution_count": 16,
     "metadata": {},
     "output_type": "execute_result"
    }
   ],
   "source": [
    "fleiss_kappa(coding)"
   ]
  },
  {
   "cell_type": "markdown",
   "metadata": {},
   "source": [
    "|    k        |interpretation            |\n",
    "|   -------   |   -------                |\n",
    "|    <0       | Poor agreement           |\n",
    "|  0.01-0.20  | Slight agreement         |\n",
    "| **0.21-0.40**  | **Fair agreement**           |\n",
    "|  0.41-0.60  | Moderate agreement       |\n",
    "|  0.61-0.80  |\tSubstantial agreement    |\n",
    "|  0.81-1.00  | Almost perfect agreement |"
   ]
  },
  {
   "cell_type": "markdown",
   "metadata": {},
   "source": [
    "## Highest weight approach"
   ]
  },
  {
   "cell_type": "code",
   "execution_count": null,
   "metadata": {},
   "outputs": [],
   "source": []
  },
  {
   "cell_type": "code",
   "execution_count": null,
   "metadata": {},
   "outputs": [],
   "source": []
  },
  {
   "cell_type": "code",
   "execution_count": null,
   "metadata": {},
   "outputs": [],
   "source": []
  }
 ],
 "metadata": {
  "kernelspec": {
   "display_name": "Python 3",
   "language": "python",
   "name": "python3"
  },
  "language_info": {
   "codemirror_mode": {
    "name": "ipython",
    "version": 3
   },
   "file_extension": ".py",
   "mimetype": "text/x-python",
   "name": "python",
   "nbconvert_exporter": "python",
   "pygments_lexer": "ipython3",
   "version": "3.7.2"
  }
 },
 "nbformat": 4,
 "nbformat_minor": 2
}
