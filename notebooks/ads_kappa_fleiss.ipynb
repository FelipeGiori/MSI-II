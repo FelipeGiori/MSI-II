{
 "cells": [
  {
   "cell_type": "markdown",
   "metadata": {},
   "source": [
    "# Kappa Fleiss between three coders"
   ]
  },
  {
   "cell_type": "markdown",
   "metadata": {},
   "source": [
    "Calculates the Kappa fleiss between three (Felipe, Guilherme, YouTube-8m) coders using two approaches: most frequent category and weighted."
   ]
  },
  {
   "cell_type": "code",
   "execution_count": 93,
   "metadata": {},
   "outputs": [],
   "source": [
    "import pandas as pd\n",
    "import numpy as np\n",
    "from matplotlib import pyplot as plt\n",
    "from utils import str2tupleList, sumOfSquares"
   ]
  },
  {
   "cell_type": "code",
   "execution_count": 2,
   "metadata": {},
   "outputs": [],
   "source": [
    "%load_ext rpy2.ipython"
   ]
  },
  {
   "cell_type": "code",
   "execution_count": 3,
   "metadata": {},
   "outputs": [],
   "source": [
    "ads = pd.read_csv('../processed_data/ads.csv')\n",
    "cat = pd.read_csv('../processed_data/mapped_categories.csv')"
   ]
  },
  {
   "cell_type": "code",
   "execution_count": 4,
   "metadata": {},
   "outputs": [],
   "source": [
    "ads['labels'] = ads['categories'].apply(str2tupleList, 1)"
   ]
  },
  {
   "cell_type": "code",
   "execution_count": 5,
   "metadata": {},
   "outputs": [
    {
     "data": {
      "text/html": [
       "<div>\n",
       "<style scoped>\n",
       "    .dataframe tbody tr th:only-of-type {\n",
       "        vertical-align: middle;\n",
       "    }\n",
       "\n",
       "    .dataframe tbody tr th {\n",
       "        vertical-align: top;\n",
       "    }\n",
       "\n",
       "    .dataframe thead th {\n",
       "        text-align: right;\n",
       "    }\n",
       "</style>\n",
       "<table border=\"1\" class=\"dataframe\">\n",
       "  <thead>\n",
       "    <tr style=\"text-align: right;\">\n",
       "      <th></th>\n",
       "      <th>videoId</th>\n",
       "      <th>categories</th>\n",
       "      <th>labels</th>\n",
       "    </tr>\n",
       "  </thead>\n",
       "  <tbody>\n",
       "    <tr>\n",
       "      <th>0</th>\n",
       "      <td>-0iPHNTYfOI</td>\n",
       "      <td>[('Food', '0.384545'), ('Vehicle', '0.0851527'...</td>\n",
       "      <td>[(Food, 0.384545), (Vehicle, 0.0851527), (Anim...</td>\n",
       "    </tr>\n",
       "    <tr>\n",
       "      <th>1</th>\n",
       "      <td>-4P8-sJqukY</td>\n",
       "      <td>[('Hot air balloon', '0.35213'), ('Balloon (ae...</td>\n",
       "      <td>[(Hot air balloon, 0.35213), (Balloon (aeronau...</td>\n",
       "    </tr>\n",
       "    <tr>\n",
       "      <th>2</th>\n",
       "      <td>-5bLu-NETl0</td>\n",
       "      <td>[('Website', '0.0725519'), ('Video game', '0.0...</td>\n",
       "      <td>[(Website, 0.0725519), (Video game, 0.0288155)...</td>\n",
       "    </tr>\n",
       "    <tr>\n",
       "      <th>3</th>\n",
       "      <td>-7TzvnMnflE</td>\n",
       "      <td>[('Cartoon', '0.805026'), ('Animation', '0.132...</td>\n",
       "      <td>[(Cartoon, 0.805026), (Animation, 0.132279), (...</td>\n",
       "    </tr>\n",
       "    <tr>\n",
       "      <th>4</th>\n",
       "      <td>-8M5Ekbt2hA</td>\n",
       "      <td>[('Video game', '0.191235'), ('Game', '0.18813...</td>\n",
       "      <td>[(Video game, 0.191235), (Game, 0.188133), (Ra...</td>\n",
       "    </tr>\n",
       "  </tbody>\n",
       "</table>\n",
       "</div>"
      ],
      "text/plain": [
       "       videoId                                         categories  \\\n",
       "0  -0iPHNTYfOI  [('Food', '0.384545'), ('Vehicle', '0.0851527'...   \n",
       "1  -4P8-sJqukY  [('Hot air balloon', '0.35213'), ('Balloon (ae...   \n",
       "2  -5bLu-NETl0  [('Website', '0.0725519'), ('Video game', '0.0...   \n",
       "3  -7TzvnMnflE  [('Cartoon', '0.805026'), ('Animation', '0.132...   \n",
       "4  -8M5Ekbt2hA  [('Video game', '0.191235'), ('Game', '0.18813...   \n",
       "\n",
       "                                              labels  \n",
       "0  [(Food, 0.384545), (Vehicle, 0.0851527), (Anim...  \n",
       "1  [(Hot air balloon, 0.35213), (Balloon (aeronau...  \n",
       "2  [(Website, 0.0725519), (Video game, 0.0288155)...  \n",
       "3  [(Cartoon, 0.805026), (Animation, 0.132279), (...  \n",
       "4  [(Video game, 0.191235), (Game, 0.188133), (Ra...  "
      ]
     },
     "execution_count": 5,
     "metadata": {},
     "output_type": "execute_result"
    }
   ],
   "source": [
    "ads.head()"
   ]
  },
  {
   "cell_type": "code",
   "execution_count": 6,
   "metadata": {},
   "outputs": [],
   "source": [
    "for index,row in ads.iterrows():\n",
    "    tmp = []\n",
    "    for x,y in row['labels']:\n",
    "        tmp.append(x)\n",
    "    ads.at[index, 'categories'] = tmp"
   ]
  },
  {
   "cell_type": "code",
   "execution_count": 7,
   "metadata": {},
   "outputs": [],
   "source": [
    "cat_dict = dict(zip(cat['label'], cat['categories']))"
   ]
  },
  {
   "cell_type": "code",
   "execution_count": 8,
   "metadata": {},
   "outputs": [],
   "source": [
    "def map_cat(lst):\n",
    "    tmp = []\n",
    "    for k in lst:\n",
    "        try:\n",
    "            tmp.append(cat_dict[k])\n",
    "        except:\n",
    "            pass\n",
    "    return tmp"
   ]
  },
  {
   "cell_type": "code",
   "execution_count": 9,
   "metadata": {},
   "outputs": [],
   "source": [
    "ads['categories'] = ads['categories'].apply(map_cat, 1)"
   ]
  },
  {
   "cell_type": "code",
   "execution_count": 10,
   "metadata": {},
   "outputs": [
    {
     "data": {
      "text/html": [
       "<div>\n",
       "<style scoped>\n",
       "    .dataframe tbody tr th:only-of-type {\n",
       "        vertical-align: middle;\n",
       "    }\n",
       "\n",
       "    .dataframe tbody tr th {\n",
       "        vertical-align: top;\n",
       "    }\n",
       "\n",
       "    .dataframe thead th {\n",
       "        text-align: right;\n",
       "    }\n",
       "</style>\n",
       "<table border=\"1\" class=\"dataframe\">\n",
       "  <thead>\n",
       "    <tr style=\"text-align: right;\">\n",
       "      <th></th>\n",
       "      <th>count</th>\n",
       "      <th>code</th>\n",
       "      <th>label</th>\n",
       "      <th>categories</th>\n",
       "    </tr>\n",
       "  </thead>\n",
       "  <tbody>\n",
       "    <tr>\n",
       "      <th>0</th>\n",
       "      <td>788288</td>\n",
       "      <td>/m/03bt1gh</td>\n",
       "      <td>Games</td>\n",
       "      <td>Games</td>\n",
       "    </tr>\n",
       "    <tr>\n",
       "      <th>1</th>\n",
       "      <td>539945</td>\n",
       "      <td>/m/01mw1</td>\n",
       "      <td>Video game</td>\n",
       "      <td>Games</td>\n",
       "    </tr>\n",
       "    <tr>\n",
       "      <th>2</th>\n",
       "      <td>415890</td>\n",
       "      <td>/m/07yv9</td>\n",
       "      <td>Vehicle</td>\n",
       "      <td>Autos &amp; Vehicles</td>\n",
       "    </tr>\n",
       "    <tr>\n",
       "      <th>3</th>\n",
       "      <td>378135</td>\n",
       "      <td>/m/01jddz</td>\n",
       "      <td>Concert</td>\n",
       "      <td>Arts &amp; Entertainment</td>\n",
       "    </tr>\n",
       "    <tr>\n",
       "      <th>4</th>\n",
       "      <td>286532</td>\n",
       "      <td>/m/09jwl</td>\n",
       "      <td>Musician</td>\n",
       "      <td>Arts &amp; Entertainment</td>\n",
       "    </tr>\n",
       "  </tbody>\n",
       "</table>\n",
       "</div>"
      ],
      "text/plain": [
       "    count        code       label            categories\n",
       "0  788288  /m/03bt1gh       Games                 Games\n",
       "1  539945    /m/01mw1  Video game                 Games\n",
       "2  415890    /m/07yv9     Vehicle      Autos & Vehicles\n",
       "3  378135   /m/01jddz     Concert  Arts & Entertainment\n",
       "4  286532    /m/09jwl    Musician  Arts & Entertainment"
      ]
     },
     "execution_count": 10,
     "metadata": {},
     "output_type": "execute_result"
    }
   ],
   "source": [
    "cat.head()"
   ]
  },
  {
   "cell_type": "markdown",
   "metadata": {},
   "source": [
    "## Most Frequent approach"
   ]
  },
  {
   "cell_type": "code",
   "execution_count": 11,
   "metadata": {},
   "outputs": [],
   "source": [
    "def most_frequent(lst): \n",
    "    return max(set(lst), key = lst.count)"
   ]
  },
  {
   "cell_type": "code",
   "execution_count": 12,
   "metadata": {},
   "outputs": [],
   "source": [
    "ads['category_youtube8m'] = ads['categories'].apply(most_frequent, 1)"
   ]
  },
  {
   "cell_type": "code",
   "execution_count": 13,
   "metadata": {},
   "outputs": [
    {
     "data": {
      "text/html": [
       "<div>\n",
       "<style scoped>\n",
       "    .dataframe tbody tr th:only-of-type {\n",
       "        vertical-align: middle;\n",
       "    }\n",
       "\n",
       "    .dataframe tbody tr th {\n",
       "        vertical-align: top;\n",
       "    }\n",
       "\n",
       "    .dataframe thead th {\n",
       "        text-align: right;\n",
       "    }\n",
       "</style>\n",
       "<table border=\"1\" class=\"dataframe\">\n",
       "  <thead>\n",
       "    <tr style=\"text-align: right;\">\n",
       "      <th></th>\n",
       "      <th>videoId</th>\n",
       "      <th>categories</th>\n",
       "      <th>labels</th>\n",
       "      <th>category_youtube8m</th>\n",
       "    </tr>\n",
       "  </thead>\n",
       "  <tbody>\n",
       "    <tr>\n",
       "      <th>0</th>\n",
       "      <td>-0iPHNTYfOI</td>\n",
       "      <td>[Food &amp; Drink, Autos &amp; Vehicles, Pets &amp; Animal...</td>\n",
       "      <td>[(Food, 0.384545), (Vehicle, 0.0851527), (Anim...</td>\n",
       "      <td>Food &amp; Drink</td>\n",
       "    </tr>\n",
       "    <tr>\n",
       "      <th>1</th>\n",
       "      <td>-4P8-sJqukY</td>\n",
       "      <td>[Hobbies &amp; Leisure, Games, Autos &amp; Vehicles, H...</td>\n",
       "      <td>[(Hot air balloon, 0.35213), (Balloon (aeronau...</td>\n",
       "      <td>Hobbies &amp; Leisure</td>\n",
       "    </tr>\n",
       "    <tr>\n",
       "      <th>2</th>\n",
       "      <td>-5bLu-NETl0</td>\n",
       "      <td>[Internet &amp; Telecom, Games, Computers &amp; Electr...</td>\n",
       "      <td>[(Website, 0.0725519), (Video game, 0.0288155)...</td>\n",
       "      <td>Computers &amp; Electronics</td>\n",
       "    </tr>\n",
       "    <tr>\n",
       "      <th>3</th>\n",
       "      <td>-7TzvnMnflE</td>\n",
       "      <td>[Arts &amp; Entertainment, Arts &amp; Entertainment, A...</td>\n",
       "      <td>[(Cartoon, 0.805026), (Animation, 0.132279), (...</td>\n",
       "      <td>Arts &amp; Entertainment</td>\n",
       "    </tr>\n",
       "    <tr>\n",
       "      <th>4</th>\n",
       "      <td>-8M5Ekbt2hA</td>\n",
       "      <td>[Games, Games, Autos &amp; Vehicles, Arts &amp; Entert...</td>\n",
       "      <td>[(Video game, 0.191235), (Game, 0.188133), (Ra...</td>\n",
       "      <td>Games</td>\n",
       "    </tr>\n",
       "  </tbody>\n",
       "</table>\n",
       "</div>"
      ],
      "text/plain": [
       "       videoId                                         categories  \\\n",
       "0  -0iPHNTYfOI  [Food & Drink, Autos & Vehicles, Pets & Animal...   \n",
       "1  -4P8-sJqukY  [Hobbies & Leisure, Games, Autos & Vehicles, H...   \n",
       "2  -5bLu-NETl0  [Internet & Telecom, Games, Computers & Electr...   \n",
       "3  -7TzvnMnflE  [Arts & Entertainment, Arts & Entertainment, A...   \n",
       "4  -8M5Ekbt2hA  [Games, Games, Autos & Vehicles, Arts & Entert...   \n",
       "\n",
       "                                              labels       category_youtube8m  \n",
       "0  [(Food, 0.384545), (Vehicle, 0.0851527), (Anim...             Food & Drink  \n",
       "1  [(Hot air balloon, 0.35213), (Balloon (aeronau...        Hobbies & Leisure  \n",
       "2  [(Website, 0.0725519), (Video game, 0.0288155)...  Computers & Electronics  \n",
       "3  [(Cartoon, 0.805026), (Animation, 0.132279), (...     Arts & Entertainment  \n",
       "4  [(Video game, 0.191235), (Game, 0.188133), (Ra...                    Games  "
      ]
     },
     "execution_count": 13,
     "metadata": {},
     "output_type": "execute_result"
    }
   ],
   "source": [
    "ads.head()"
   ]
  },
  {
   "cell_type": "code",
   "execution_count": 14,
   "metadata": {},
   "outputs": [],
   "source": [
    "felipe_coding = pd.read_csv(\"../data/felipe_coding.csv\")\n",
    "guilherme_coding = pd.read_csv(\"../data/guilherme_coding.csv\")\n",
    "\n",
    "felipe_coding = felipe_coding[['ad_id', 'what is the category of the product?']]\n",
    "felipe_coding.columns = ['ad_id', 'category_felipe']\n",
    "felipe_coding = felipe_coding.dropna()\n",
    "\n",
    "guilherme_coding = guilherme_coding[['ad_id', 'what is the category of the product?']]\n",
    "guilherme_coding.columns = ['ad_id', 'category_guilherme']\n",
    "guilherme_coding = guilherme_coding.dropna()"
   ]
  },
  {
   "cell_type": "code",
   "execution_count": 15,
   "metadata": {},
   "outputs": [],
   "source": [
    "coding = ads.copy()\n",
    "coding = coding[['videoId', 'category_youtube8m']]"
   ]
  },
  {
   "cell_type": "code",
   "execution_count": 16,
   "metadata": {},
   "outputs": [],
   "source": [
    "coding = coding.join(felipe_coding.set_index('ad_id'), on='videoId')\n",
    "coding = coding.join(guilherme_coding.set_index('ad_id'), on='videoId')"
   ]
  },
  {
   "cell_type": "code",
   "execution_count": 17,
   "metadata": {},
   "outputs": [],
   "source": [
    "coding = coding.dropna()\n",
    "coding = coding.drop_duplicates()"
   ]
  },
  {
   "cell_type": "code",
   "execution_count": 18,
   "metadata": {
    "scrolled": true
   },
   "outputs": [
    {
     "data": {
      "text/html": [
       "<div>\n",
       "<style scoped>\n",
       "    .dataframe tbody tr th:only-of-type {\n",
       "        vertical-align: middle;\n",
       "    }\n",
       "\n",
       "    .dataframe tbody tr th {\n",
       "        vertical-align: top;\n",
       "    }\n",
       "\n",
       "    .dataframe thead th {\n",
       "        text-align: right;\n",
       "    }\n",
       "</style>\n",
       "<table border=\"1\" class=\"dataframe\">\n",
       "  <thead>\n",
       "    <tr style=\"text-align: right;\">\n",
       "      <th></th>\n",
       "      <th>videoId</th>\n",
       "      <th>category_youtube8m</th>\n",
       "      <th>category_felipe</th>\n",
       "      <th>category_guilherme</th>\n",
       "    </tr>\n",
       "  </thead>\n",
       "  <tbody>\n",
       "    <tr>\n",
       "      <th>98</th>\n",
       "      <td>1YBY1Hyo7ls</td>\n",
       "      <td>Games</td>\n",
       "      <td>Arts &amp; Entertainment</td>\n",
       "      <td>Arts &amp; Entertainment</td>\n",
       "    </tr>\n",
       "    <tr>\n",
       "      <th>108</th>\n",
       "      <td>1kMEXhOMznQ</td>\n",
       "      <td>Pets &amp; Animals</td>\n",
       "      <td>Business &amp; Industrial</td>\n",
       "      <td>Business &amp; Industrial</td>\n",
       "    </tr>\n",
       "    <tr>\n",
       "      <th>116</th>\n",
       "      <td>1u2nS8jcc5g</td>\n",
       "      <td>Food &amp; Drink</td>\n",
       "      <td>Home &amp; Garden</td>\n",
       "      <td>Home &amp; Garden</td>\n",
       "    </tr>\n",
       "    <tr>\n",
       "      <th>144</th>\n",
       "      <td>2iTNc8rsFo8</td>\n",
       "      <td>Shopping</td>\n",
       "      <td>Clothing</td>\n",
       "      <td>Clothing</td>\n",
       "    </tr>\n",
       "    <tr>\n",
       "      <th>156</th>\n",
       "      <td>34AJ7MJNqFg</td>\n",
       "      <td>Arts &amp; Entertainment</td>\n",
       "      <td>Arts &amp; Entertainment</td>\n",
       "      <td>Arts &amp; Entertainment</td>\n",
       "    </tr>\n",
       "  </tbody>\n",
       "</table>\n",
       "</div>"
      ],
      "text/plain": [
       "         videoId    category_youtube8m        category_felipe  \\\n",
       "98   1YBY1Hyo7ls                 Games   Arts & Entertainment   \n",
       "108  1kMEXhOMznQ        Pets & Animals  Business & Industrial   \n",
       "116  1u2nS8jcc5g          Food & Drink          Home & Garden   \n",
       "144  2iTNc8rsFo8              Shopping               Clothing   \n",
       "156  34AJ7MJNqFg  Arts & Entertainment   Arts & Entertainment   \n",
       "\n",
       "        category_guilherme  \n",
       "98    Arts & Entertainment  \n",
       "108  Business & Industrial  \n",
       "116          Home & Garden  \n",
       "144               Clothing  \n",
       "156   Arts & Entertainment  "
      ]
     },
     "execution_count": 18,
     "metadata": {},
     "output_type": "execute_result"
    }
   ],
   "source": [
    "coding.head()"
   ]
  },
  {
   "cell_type": "code",
   "execution_count": 19,
   "metadata": {},
   "outputs": [],
   "source": [
    "def fleiss_kappa(df):  \n",
    "    k_list = list(set([*df.iloc[:,1], *df.iloc[:,2], *df.iloc[:,3]]))\n",
    "    \n",
    "    kappa_table = pd.DataFrame(0, index=df.videoId, columns=k_list)\n",
    "    \n",
    "    N = len(df)\n",
    "    n = 3\n",
    "    k = len(k_list)\n",
    "    \n",
    "    for _,row in df.iterrows():\n",
    "        kappa_table.at[row['videoId'], row['category_youtube8m']] += 1\n",
    "        kappa_table.at[row['videoId'], row['category_felipe']] += 1\n",
    "        kappa_table.at[row['videoId'], row['category_guilherme']] += 1\n",
    "        \n",
    "    kappa_table['P'] = 1/(n*(n-1)) * (kappa_table.apply(sumOfSquares, 1) - n)\n",
    "    p = kappa_table.iloc[:,:-1].sum()/kappa_table.iloc[:,:-1].sum().sum()\n",
    "    \n",
    "    P_hat = (1/N) * (kappa_table['P'].sum())\n",
    "    P_hat_e = sumOfSquares(p)\n",
    "    kappa = (P_hat - P_hat_e)/(1 - P_hat_e)\n",
    "    return kappa"
   ]
  },
  {
   "cell_type": "code",
   "execution_count": 20,
   "metadata": {},
   "outputs": [
    {
     "data": {
      "text/plain": [
       "0.33969832019197815"
      ]
     },
     "execution_count": 20,
     "metadata": {},
     "output_type": "execute_result"
    }
   ],
   "source": [
    "fleiss_kappa(coding)"
   ]
  },
  {
   "cell_type": "code",
   "execution_count": 21,
   "metadata": {},
   "outputs": [],
   "source": [
    "coding_r = coding.iloc[:, 1:4]"
   ]
  },
  {
   "cell_type": "code",
   "execution_count": 22,
   "metadata": {},
   "outputs": [
    {
     "data": {
      "text/plain": [
       "(103, 3)"
      ]
     },
     "execution_count": 22,
     "metadata": {},
     "output_type": "execute_result"
    }
   ],
   "source": [
    "coding_r.shape"
   ]
  },
  {
   "cell_type": "code",
   "execution_count": 29,
   "metadata": {},
   "outputs": [
    {
     "name": "stdout",
     "output_type": "stream",
     "text": [
      " Fleiss' Kappa for m Raters\n",
      "\n",
      " Subjects = 103 \n",
      "   Raters = 3 \n",
      "    Kappa = 0.34 \n",
      "\n",
      "        z = 21.1 \n",
      "  p-value = 0 \n"
     ]
    }
   ],
   "source": [
    "%%R -i coding_r\n",
    "\n",
    "library(irr)\n",
    "kappam.fleiss(coding_r)"
   ]
  },
  {
   "cell_type": "markdown",
   "metadata": {},
   "source": [
    "|    k        |interpretation            |\n",
    "|   -------   |   -------                |\n",
    "|    <0       | Poor agreement           |\n",
    "|  0.01-0.20  | Slight agreement         |\n",
    "| **0.21-0.40**  | **Fair agreement**           |\n",
    "|  0.41-0.60  | Moderate agreement       |\n",
    "|  0.61-0.80  |\tSubstantial agreement    |\n",
    "|  0.81-1.00  | Almost perfect agreement |"
   ]
  },
  {
   "cell_type": "markdown",
   "metadata": {},
   "source": [
    "## Highest weight approach"
   ]
  },
  {
   "cell_type": "code",
   "execution_count": 24,
   "metadata": {},
   "outputs": [],
   "source": [
    "def highest_weight(df, cat_dict):\n",
    "    df['category_youtube8m_hw'] = \"\"\n",
    "    for index, row in df.iterrows():\n",
    "        teste = pd.DataFrame(data=row.labels, columns=['label', 'weight'])\n",
    "        teste['label'] = teste['label'].map(cat_dict)\n",
    "        teste['weight'] = teste['weight'].astype(float)\n",
    "        teste = teste.groupby(['label']).sum()\n",
    "        df.at[index, 'category_youtube8m_hw'] = teste['weight'].idxmax()\n",
    "        \n",
    "    return df"
   ]
  },
  {
   "cell_type": "code",
   "execution_count": 25,
   "metadata": {},
   "outputs": [],
   "source": [
    "ads = highest_weight(ads, cat_dict)"
   ]
  },
  {
   "cell_type": "code",
   "execution_count": 26,
   "metadata": {},
   "outputs": [],
   "source": [
    "coding = ads.copy()\n",
    "coding = coding[['videoId', 'category_youtube8m_hw']]\n",
    "coding = coding.join(felipe_coding.set_index('ad_id'), on='videoId')\n",
    "coding = coding.join(guilherme_coding.set_index('ad_id'), on='videoId')\n",
    "coding = coding.dropna()\n",
    "coding = coding.drop_duplicates()\n",
    "coding.columns = ['videoId', 'category_youtube8m', 'category_felipe', 'category_guilherme']"
   ]
  },
  {
   "cell_type": "code",
   "execution_count": 27,
   "metadata": {},
   "outputs": [
    {
     "data": {
      "text/html": [
       "<div>\n",
       "<style scoped>\n",
       "    .dataframe tbody tr th:only-of-type {\n",
       "        vertical-align: middle;\n",
       "    }\n",
       "\n",
       "    .dataframe tbody tr th {\n",
       "        vertical-align: top;\n",
       "    }\n",
       "\n",
       "    .dataframe thead th {\n",
       "        text-align: right;\n",
       "    }\n",
       "</style>\n",
       "<table border=\"1\" class=\"dataframe\">\n",
       "  <thead>\n",
       "    <tr style=\"text-align: right;\">\n",
       "      <th></th>\n",
       "      <th>videoId</th>\n",
       "      <th>category_youtube8m</th>\n",
       "      <th>category_felipe</th>\n",
       "      <th>category_guilherme</th>\n",
       "    </tr>\n",
       "  </thead>\n",
       "  <tbody>\n",
       "    <tr>\n",
       "      <th>98</th>\n",
       "      <td>1YBY1Hyo7ls</td>\n",
       "      <td>Games</td>\n",
       "      <td>Arts &amp; Entertainment</td>\n",
       "      <td>Arts &amp; Entertainment</td>\n",
       "    </tr>\n",
       "    <tr>\n",
       "      <th>108</th>\n",
       "      <td>1kMEXhOMznQ</td>\n",
       "      <td>Pets &amp; Animals</td>\n",
       "      <td>Business &amp; Industrial</td>\n",
       "      <td>Business &amp; Industrial</td>\n",
       "    </tr>\n",
       "    <tr>\n",
       "      <th>116</th>\n",
       "      <td>1u2nS8jcc5g</td>\n",
       "      <td>Home &amp; Garden</td>\n",
       "      <td>Home &amp; Garden</td>\n",
       "      <td>Home &amp; Garden</td>\n",
       "    </tr>\n",
       "    <tr>\n",
       "      <th>144</th>\n",
       "      <td>2iTNc8rsFo8</td>\n",
       "      <td>Shopping</td>\n",
       "      <td>Clothing</td>\n",
       "      <td>Clothing</td>\n",
       "    </tr>\n",
       "    <tr>\n",
       "      <th>156</th>\n",
       "      <td>34AJ7MJNqFg</td>\n",
       "      <td>Arts &amp; Entertainment</td>\n",
       "      <td>Arts &amp; Entertainment</td>\n",
       "      <td>Arts &amp; Entertainment</td>\n",
       "    </tr>\n",
       "  </tbody>\n",
       "</table>\n",
       "</div>"
      ],
      "text/plain": [
       "         videoId    category_youtube8m        category_felipe  \\\n",
       "98   1YBY1Hyo7ls                 Games   Arts & Entertainment   \n",
       "108  1kMEXhOMznQ        Pets & Animals  Business & Industrial   \n",
       "116  1u2nS8jcc5g         Home & Garden          Home & Garden   \n",
       "144  2iTNc8rsFo8              Shopping               Clothing   \n",
       "156  34AJ7MJNqFg  Arts & Entertainment   Arts & Entertainment   \n",
       "\n",
       "        category_guilherme  \n",
       "98    Arts & Entertainment  \n",
       "108  Business & Industrial  \n",
       "116          Home & Garden  \n",
       "144               Clothing  \n",
       "156   Arts & Entertainment  "
      ]
     },
     "execution_count": 27,
     "metadata": {},
     "output_type": "execute_result"
    }
   ],
   "source": [
    "coding.head()"
   ]
  },
  {
   "cell_type": "code",
   "execution_count": 28,
   "metadata": {},
   "outputs": [
    {
     "data": {
      "text/plain": [
       "0.3468781083280587"
      ]
     },
     "execution_count": 28,
     "metadata": {},
     "output_type": "execute_result"
    }
   ],
   "source": [
    "fleiss_kappa(coding)"
   ]
  },
  {
   "cell_type": "code",
   "execution_count": 31,
   "metadata": {},
   "outputs": [],
   "source": [
    "conding_r = coding.iloc[:, 1:4]"
   ]
  },
  {
   "cell_type": "code",
   "execution_count": 32,
   "metadata": {},
   "outputs": [
    {
     "name": "stdout",
     "output_type": "stream",
     "text": [
      " Fleiss' Kappa for m Raters\n",
      "\n",
      " Subjects = 103 \n",
      "   Raters = 3 \n",
      "    Kappa = 0.34 \n",
      "\n",
      "        z = 21.1 \n",
      "  p-value = 0 \n"
     ]
    }
   ],
   "source": [
    "%%R -i coding_r\n",
    "\n",
    "library(irr)\n",
    "kappam.fleiss(coding_r)"
   ]
  },
  {
   "cell_type": "markdown",
   "metadata": {},
   "source": [
    "## Pruning by weight"
   ]
  },
  {
   "cell_type": "code",
   "execution_count": 81,
   "metadata": {},
   "outputs": [],
   "source": [
    "def prune_by_weight(df, x):\n",
    "    df['category_youtube8m_pw'] = \"\"\n",
    "    for index, row in df.iterrows():\n",
    "        a = dict(row['labels'])\n",
    "        b = a.copy()\n",
    "        for cat, value in a.items():\n",
    "            if(float(value) < x):\n",
    "                if(len(b) > 1):\n",
    "                    del b[cat]\n",
    "        df.at[index, 'category_youtube8m_pw'] = list(b.keys())"
   ]
  },
  {
   "cell_type": "code",
   "execution_count": 82,
   "metadata": {},
   "outputs": [],
   "source": [
    "prune_by_weight(ads, 0.01)"
   ]
  },
  {
   "cell_type": "code",
   "execution_count": 96,
   "metadata": {},
   "outputs": [],
   "source": [
    "def best_prune(df, cat_dict, felipe_coding, guilherme_coding):\n",
    "    th = np.linspace(0, 1, 101)\n",
    "    kappas = []\n",
    "    for x in th:\n",
    "        prune_by_weight(df, x)\n",
    "        df['category_youtube8m_pw'] = df['category_youtube8m_pw'].apply(most_frequent, 1)\n",
    "        df['category_youtube8m_pw'] = df['category_youtube8m_pw'].replace(cat_dict)\n",
    "        \n",
    "        coding = df.copy()\n",
    "        coding = coding[['videoId', 'category_youtube8m_pw']]\n",
    "        coding = coding.join(felipe_coding.set_index('ad_id'), on='videoId')\n",
    "        coding = coding.join(guilherme_coding.set_index('ad_id'), on='videoId')\n",
    "        coding = coding.dropna()\n",
    "        coding = coding.drop_duplicates()\n",
    "        coding.columns = ['videoId', 'category_youtube8m', 'category_felipe', 'category_guilherme']\n",
    "        \n",
    "        kappas.append(fleiss_kappa(coding))\n",
    "    return th, kappas"
   ]
  },
  {
   "cell_type": "code",
   "execution_count": 98,
   "metadata": {},
   "outputs": [],
   "source": [
    "x, kappa = best_prune(ads, cat_dict, felipe_coding, guilherme_coding)"
   ]
  },
  {
   "cell_type": "code",
   "execution_count": 105,
   "metadata": {},
   "outputs": [
    {
     "data": {
      "image/png": "[encoded data removed]",
      "text/plain": [
       "<Figure size 432x432 with 1 Axes>"
      ]
     },
     "metadata": {
      "needs_background": "light"
     },
     "output_type": "display_data"
    }
   ],
   "source": [
    "plt.figure(figsize=(6, 6))\n",
    "plt.plot(x, kappa)\n",
    "plt.ylabel(\"kappa\", fontsize=12)\n",
    "plt.xlabel(\"threshold\", fontsize=12)\n",
    "plt.xticks(fontsize=12)\n",
    "plt.yticks(fontsize=12)\n",
    "#plt.ylim((0, 0.5))\n",
    "plt.show()"
   ]
  },
  {
   "cell_type": "code",
   "execution_count": null,
   "metadata": {},
   "outputs": [],
   "source": []
  }
 ],
 "metadata": {
  "kernelspec": {
   "display_name": "Python 3",
   "language": "python",
   "name": "python3"
  },
  "language_info": {
   "codemirror_mode": {
    "name": "ipython",
    "version": 3
   },
   "file_extension": ".py",
   "mimetype": "text/x-python",
   "name": "python",
   "nbconvert_exporter": "python",
   "pygments_lexer": "ipython3",
   "version": "3.7.2"
  }
 },
 "nbformat": 4,
 "nbformat_minor": 2
}
